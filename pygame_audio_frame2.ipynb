{
 "cells": [
  {
   "cell_type": "code",
   "execution_count": 1,
   "metadata": {},
   "outputs": [],
   "source": [
    "import pygame\n",
    "from pydub import AudioSegment\n",
    "\n",
    "pygame.init()\n",
    "pygame.mixer.init()\n",
    "clock = pygame.time.Clock()\n",
    "\n",
    "def play_audio_frame_by_frame(audio_path):\n",
    "    # Load the audio file\n",
    "    audio = AudioSegment.from_file(audio_path)\n",
    "\n",
    "    # Create a Sound object\n",
    "    sound = pygame.mixer.Sound(buffer=audio.raw_data)\n",
    "    frame_rate = audio.frame_rate\n",
    "\n",
    "    # Get the duration of one frame in milliseconds\n",
    "    frame_duration_ms = int(1000 / frame_rate)\n",
    "\n",
    "    # Main loop\n",
    "    running = True\n",
    "    frame_index = 0\n",
    "\n",
    "    while running:\n",
    "        clock.tick(60)  # Limit the frame rate to 60 frames per second\n",
    "\n",
    "        for event in pygame.event.get():\n",
    "            if event.type == pygame.QUIT:\n",
    "                running = False\n",
    "            elif event.type == pygame.KEYDOWN:\n",
    "                if event.key == pygame.K_SPACE:\n",
    "                    # Play one frame\n",
    "                    sound.play()\n",
    "                    frame_index += 1\n",
    "\n",
    "                    # Check if playback is finished\n",
    "                    if frame_index >= audio.frame_count():\n",
    "                        running = False\n",
    "\n",
    "    # Clean up\n",
    "    pygame.quit()\n",
    "\n",
    "# Example usage\n",
    "audio_path = \"PinkPanther30.wav\"\n",
    "play_audio_frame_by_frame(audio_path)\n",
    "\n",
    "exit()"
   ]
  }
 ],
 "metadata": {
  "kernelspec": {
   "display_name": "Python 3",
   "language": "python",
   "name": "python3"
  },
  "language_info": {
   "codemirror_mode": {
    "name": "ipython",
    "version": 3
   },
   "file_extension": ".py",
   "mimetype": "text/x-python",
   "name": "python",
   "nbconvert_exporter": "python",
   "pygments_lexer": "ipython3",
   "version": "3.11.8"
  }
 },
 "nbformat": 4,
 "nbformat_minor": 2
}
