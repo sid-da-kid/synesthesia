{
 "cells": [
  {
   "cell_type": "code",
   "execution_count": 1,
   "metadata": {},
   "outputs": [
    {
     "name": "stdout",
     "output_type": "stream",
     "text": [
      "length: ,752 \n",
      "fps: ,25.0 \n",
      "4.92\n"
     ]
    }
   ],
   "source": [
    "import cv2\n",
    "import wave\n",
    "import numpy as np\n",
    "from PIL import Image, ImageEnhance\n",
    "import random\n",
    "\n",
    "\n",
    "# load video and image file\n",
    "video = cv2.VideoCapture(\"vid2.mp4\")\n",
    "img = cv2.imread('img1.jpg')\n",
    "cv2_image=cv2.imread(\"img1.jpg\") # open image using cv2\n",
    "\n",
    "# window name and size\n",
    "cv2.namedWindow(\"video\", cv2.WINDOW_NORMAL)\n",
    "length = int(video.get(cv2.CAP_PROP_FRAME_COUNT))\n",
    "width = int(video.get(cv2.CAP_PROP_FRAME_WIDTH)) \n",
    "height = int(video.get(cv2.CAP_PROP_FRAME_HEIGHT))\n",
    "fps = video.get(cv2.CAP_PROP_FPS)\n",
    "print(f\"length: ,{length} \")\n",
    "print(f\"fps: ,{fps} \")\n",
    "\n",
    "while video.isOpened():\n",
    "    # Read video capture\n",
    "    ret, frame = video.read()\n",
    "\n",
    "    # Convert from cv2 to pillow\n",
    "    color_converted = cv2.cvtColor(cv2_image, cv2.COLOR_BGR2RGB) # convert from BGR to RGB\n",
    "    pil_image = Image.fromarray(color_converted)\n",
    "\n",
    "    # Enhance Image\n",
    "    contrast_enhancer = ImageEnhance.Contrast(pil_image)\n",
    "    # color_enhancer = ImageEnhance.Color(frame)\n",
    "    # brightness_enhancer = ImageEnhance.Brightness(frame)\n",
    "    # sharpness_enhancer = ImageEnhance.Sharpness(frame)\n",
    "    contrast_factor = round(random.uniform(0.5 ,5), 2)\n",
    "    pil_image2 = contrast_enhancer.enhance(contrast_factor)\n",
    "\n",
    "    # convert from pillow to cv2\n",
    "    final_image = np.array(pil_image2) \n",
    "    opencv_image = cv2.cvtColor(final_image, cv2.COLOR_RGB2BGR) # convert from RGB to BGR \n",
    "    \n",
    "    # CONTRAST ENHANCING WITH CV2:\n",
    "    # alpha = round(random.uniform(1,3), 1) # Contrast control (1.0-3.0)\n",
    "    # beta = 0 # random.randint(0,100) # Brightness control (0-100)\n",
    "    # frame = cv2.convertScaleAbs(frame, alpha=alpha, beta=beta)\n",
    "\n",
    "    # Display each frame\n",
    "    cv2.imshow(\"video\", final_image)\n",
    "    # show one frame at a time\n",
    "    cv2.waitKey(00) == ord('k')\n",
    "    # Quit when 'q' is pressed\n",
    "    if cv2.waitKey(0) == ord('q'):\n",
    "        break\n",
    "# Release capture object\n",
    "video.release()\n",
    "# Exit and distroy all windows\n",
    "cv2.destroyAllWindows()\n",
    "\n",
    "print(contrast_factor)"
   ]
  }
 ],
 "metadata": {
  "kernelspec": {
   "display_name": "Python 3",
   "language": "python",
   "name": "python3"
  },
  "language_info": {
   "codemirror_mode": {
    "name": "ipython",
    "version": 3
   },
   "file_extension": ".py",
   "mimetype": "text/x-python",
   "name": "python",
   "nbconvert_exporter": "python",
   "pygments_lexer": "ipython3",
   "version": "3.12.1"
  }
 },
 "nbformat": 4,
 "nbformat_minor": 2
}
