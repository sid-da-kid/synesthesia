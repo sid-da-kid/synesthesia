{
 "cells": [
  {
   "cell_type": "code",
   "execution_count": 1,
   "metadata": {},
   "outputs": [
    {
     "name": "stdout",
     "output_type": "stream",
     "text": [
      "pygame 2.5.2 (SDL 2.28.3, Python 3.11.8)\n",
      "Hello from the pygame community. https://www.pygame.org/contribute.html\n"
     ]
    }
   ],
   "source": [
    "from pydub import AudioSegment\n",
    "import pygame\n",
    "import time\n",
    "\n",
    "def play_audio_frame_by_frame(audio_path):\n",
    "    # Load the audio file\n",
    "    audio = AudioSegment.from_file(audio_path)\n",
    "\n",
    "    # Set up pygame mixer\n",
    "    pygame.mixer.init()\n",
    "    pygame.mixer.music.load(audio_path)\n",
    "\n",
    "    # Get the frame rate of the audio\n",
    "    frame_rate = audio.frame_rate\n",
    "\n",
    "    # Get the duration of one frame in milliseconds\n",
    "    frame_duration_ms = int(1000 / frame_rate)\n",
    "\n",
    "    # Start playback\n",
    "    pygame.mixer.music.play()\n",
    "\n",
    "    # Play frame by frame\n",
    "    for i in range(int(audio.frame_count())):\n",
    "        # Wait for the duration of one frame\n",
    "        time.sleep(frame_duration_ms / 1000)\n",
    "\n",
    "        # Check if playback is finished\n",
    "        if not pygame.mixer.music.get_busy():\n",
    "            break\n",
    "\n",
    "# Example usage\n",
    "audio_path = \"PinkPanther30.wav\"\n",
    "play_audio_frame_by_frame(audio_path)"
   ]
  }
 ],
 "metadata": {
  "kernelspec": {
   "display_name": "Python 3",
   "language": "python",
   "name": "python3"
  },
  "language_info": {
   "codemirror_mode": {
    "name": "ipython",
    "version": 3
   },
   "file_extension": ".py",
   "mimetype": "text/x-python",
   "name": "python",
   "nbconvert_exporter": "python",
   "pygments_lexer": "ipython3",
   "version": "3.11.8"
  }
 },
 "nbformat": 4,
 "nbformat_minor": 2
}
