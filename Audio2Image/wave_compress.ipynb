{
 "cells": [
  {
   "cell_type": "code",
   "execution_count": 4,
   "metadata": {},
   "outputs": [
    {
     "name": "stdout",
     "output_type": "stream",
     "text": [
      "Audio total frames: 1323000\n",
      "Audio duration: 60.0\n",
      "Audio fps: 22050\n"
     ]
    },
    {
     "data": {
      "text/plain": [
       "'\\n# play audio\\ndef wav_play(audio_file):\\n    pygame.mixer.init()\\n    pygame.mixer.music.load(audio_file)\\n    pygame.mixer.music.play()\\n\\n    while pygame.mixer.music.get_busy():\\n        pygame.time.Clock().tick(10)\\n\\n    pygame.mixer.quit()\\n\\naudio_file = \"ImperialMarch60.wav\"\\nwav_play(audio_file)\\naud.close()\\n'"
      ]
     },
     "execution_count": 4,
     "metadata": {},
     "output_type": "execute_result"
    }
   ],
   "source": [
    "import cv2\n",
    "import wave\n",
    "import pygame, pygame.mixer\n",
    "import numpy as np, random\n",
    "from PIL import Image, ImageEnhance\n",
    "\n",
    "# load audio file, audio data\n",
    "aud = wave.open(\"ImperialMarch60.wav\")\n",
    "\n",
    "num_frames = aud.getnframes()\n",
    "audio_fps = aud.getframerate()\n",
    "frames = aud.readframes(num_frames) # reads all the frames of the audio\n",
    "duration = num_frames / audio_fps\n",
    "\n",
    "print(f\"Audio total frames: {aud.getnframes()}\")\n",
    "print(f\"Audio duration: {duration}\")\n",
    "print(f\"Audio fps: {audio_fps}\")\n",
    "\n",
    "aud_array = np.frombuffer(frames, dtype=float, count=-1, offset=0)\n",
    "aud_comp = aud_array[0:num_frames:10000]\n",
    "\n",
    "\"\"\"\n",
    "# play audio\n",
    "def wav_play(audio_file):\n",
    "    pygame.mixer.init()\n",
    "    pygame.mixer.music.load(audio_file)\n",
    "    pygame.mixer.music.play()\n",
    "\n",
    "    while pygame.mixer.music.get_busy():\n",
    "        pygame.time.Clock().tick(10)\n",
    "\n",
    "    pygame.mixer.quit()\n",
    "\n",
    "audio_file = \"ImperialMarch60.wav\"\n",
    "wav_play(audio_file)\n",
    "aud.close()\n",
    "\"\"\""
   ]
  }
 ],
 "metadata": {
  "language_info": {
   "name": "python"
  }
 },
 "nbformat": 4,
 "nbformat_minor": 2
}
